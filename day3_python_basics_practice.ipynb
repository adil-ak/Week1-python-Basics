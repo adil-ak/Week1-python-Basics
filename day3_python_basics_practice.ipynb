{
  "nbformat": 4,
  "nbformat_minor": 0,
  "metadata": {
    "colab": {
      "provenance": [],
      "authorship_tag": "ABX9TyPVuMq4Z6OorizikCVBIS6C",
      "include_colab_link": true
    },
    "kernelspec": {
      "name": "python3",
      "display_name": "Python 3"
    },
    "language_info": {
      "name": "python"
    }
  },
  "cells": [
    {
      "cell_type": "markdown",
      "metadata": {
        "id": "view-in-github",
        "colab_type": "text"
      },
      "source": [
        "<a href=\"https://colab.research.google.com/github/adil-ak/Week1-python-Basics/blob/main/day3_python_basics_practice.ipynb\" target=\"_parent\"><img src=\"https://colab.research.google.com/assets/colab-badge.svg\" alt=\"Open In Colab\"/></a>"
      ]
    },
    {
      "cell_type": "markdown",
      "source": [
        "#Number problems"
      ],
      "metadata": {
        "id": "m5GOK-ntL2wO"
      }
    },
    {
      "cell_type": "markdown",
      "source": [
        "**Find sum of digits of a number**"
      ],
      "metadata": {
        "id": "h7YsAtTjL4CR"
      }
    },
    {
      "cell_type": "code",
      "execution_count": 14,
      "metadata": {
        "colab": {
          "base_uri": "https://localhost:8080/"
        },
        "id": "2aK4_r41Lup2",
        "outputId": "fd58558c-9456-4623-8f28-1455b8d2589d"
      },
      "outputs": [
        {
          "output_type": "stream",
          "name": "stdout",
          "text": [
            "Enter the number : 123\n",
            "Sum of the digits of your number is =  6\n"
          ]
        }
      ],
      "source": [
        "number = input(\"Enter the number : \")\n",
        "total = 0\n",
        "for i in number:\n",
        "  total = total+int(i)\n",
        "print(\"Sum of the digits of your number is = \",total)"
      ]
    },
    {
      "cell_type": "markdown",
      "source": [
        "**Check if a number is prime**"
      ],
      "metadata": {
        "id": "2gMLYhOnS6Xf"
      }
    },
    {
      "cell_type": "code",
      "source": [
        "num = int(input(\"Enter the number :\"))\n",
        "if num > 1:\n",
        "  for i in range(2,num):\n",
        "    if (num % i) == 0:\n",
        "      print(num,\"is not a prime number\")\n",
        "      break\n",
        "  else:\n",
        "    print(num,\"is a prime number\")"
      ],
      "metadata": {
        "colab": {
          "base_uri": "https://localhost:8080/"
        },
        "id": "VPgNtghRSAD1",
        "outputId": "ea9c9d9d-1b30-4176-97cc-5f220c3e4065"
      },
      "execution_count": 21,
      "outputs": [
        {
          "output_type": "stream",
          "name": "stdout",
          "text": [
            "Enter the number :7\n",
            "7 is a prime number\n"
          ]
        }
      ]
    },
    {
      "cell_type": "markdown",
      "source": [
        "#String problems"
      ],
      "metadata": {
        "id": "QbhJCJhTUfrU"
      }
    },
    {
      "cell_type": "markdown",
      "source": [
        "**Reverse a string without slicing**"
      ],
      "metadata": {
        "id": "OuPkBT9IUe40"
      }
    },
    {
      "cell_type": "code",
      "source": [
        "word = input(\"Enter your word :\")\n",
        "\n",
        "for i in range(len(word)-1,-1,-1):\n",
        "  print(word[i],end=\"\")"
      ],
      "metadata": {
        "colab": {
          "base_uri": "https://localhost:8080/"
        },
        "id": "5h-G-8QuTF2-",
        "outputId": "7a290dc1-b795-4a1b-88bd-28165f2b006f"
      },
      "execution_count": 32,
      "outputs": [
        {
          "output_type": "stream",
          "name": "stdout",
          "text": [
            "Enter your word :python\n",
            "nohtyp"
          ]
        }
      ]
    },
    {
      "cell_type": "markdown",
      "source": [
        "**Count vowels and consonants**"
      ],
      "metadata": {
        "id": "2RY85drtcrfp"
      }
    },
    {
      "cell_type": "code",
      "source": [
        "sent = input(\"Enter your sentence : \")\n",
        "count_v = count_c = 0\n",
        "for i in sent:\n",
        "    if i.isalpha():\n",
        "        if i in \"aeiouAEIOU\":  # O(n) lookup in string\n",
        "            count_v += 1\n",
        "        else:\n",
        "            count_c += 1\n",
        "print(\"Number of Vowels =\", count_v)\n",
        "print(\"Number of Vowels =\", count_c)"
      ],
      "metadata": {
        "colab": {
          "base_uri": "https://localhost:8080/"
        },
        "id": "V151zwI6cx5o",
        "outputId": "ea58cae8-52ea-4401-e71f-40def210c00e"
      },
      "execution_count": 37,
      "outputs": [
        {
          "output_type": "stream",
          "name": "stdout",
          "text": [
            "Enter your sentence : ashraf\n",
            "Number of Vowels = 2\n",
            "Number of Vowels = 4\n"
          ]
        }
      ]
    },
    {
      "cell_type": "markdown",
      "source": [
        "**This is more optimized code**"
      ],
      "metadata": {
        "id": "OdInvSuZhMP_"
      }
    },
    {
      "cell_type": "code",
      "source": [
        "def count_vowels_consonants(text: str):\n",
        "    vowels = set(\"aeiouAEIOU\")  # O(1) lookups\n",
        "    v_count = c_count = 0\n",
        "\n",
        "    for ch in text:\n",
        "        if ch.isalpha():\n",
        "            if ch in vowels:\n",
        "                v_count += 1\n",
        "            else:\n",
        "                c_count += 1\n",
        "\n",
        "    return v_count, c_count\n",
        "\n",
        "text = input(\"Enter the Text: \")\n",
        "vowels, consonants = count_vowels_consonants(text)\n",
        "print(f\"Vowels: {vowels}, Consonants: {consonants}\")"
      ],
      "metadata": {
        "colab": {
          "base_uri": "https://localhost:8080/"
        },
        "id": "5b3zgUa8hLH0",
        "outputId": "b17c302c-22e3-4e41-ea28-b7d2d1ac4a93"
      },
      "execution_count": 40,
      "outputs": [
        {
          "output_type": "stream",
          "name": "stdout",
          "text": [
            "Enter the Text: ashraf\n",
            "Vowels: 2, Consonants: 4\n"
          ]
        }
      ]
    }
  ]
}