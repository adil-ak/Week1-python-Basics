{
  "nbformat": 4,
  "nbformat_minor": 0,
  "metadata": {
    "colab": {
      "provenance": [],
      "authorship_tag": "ABX9TyMSxr18dWz8Y3H8wWT9gbai",
      "include_colab_link": true
    },
    "kernelspec": {
      "name": "python3",
      "display_name": "Python 3"
    },
    "language_info": {
      "name": "python"
    }
  },
  "cells": [
    {
      "cell_type": "markdown",
      "metadata": {
        "id": "view-in-github",
        "colab_type": "text"
      },
      "source": [
        "<a href=\"https://colab.research.google.com/github/adil-ak/mnc-prep-roadmap/blob/main/week2-python-advanced/day8_python_file_handling.ipynb\" target=\"_parent\"><img src=\"https://colab.research.google.com/assets/colab-badge.svg\" alt=\"Open In Colab\"/></a>"
      ]
    },
    {
      "cell_type": "markdown",
      "source": [
        "**File Handling**"
      ],
      "metadata": {
        "id": "OCRNl49v8ALg"
      }
    },
    {
      "cell_type": "code",
      "execution_count": 3,
      "metadata": {
        "id": "cqQr9BpIoHln"
      },
      "outputs": [],
      "source": [
        "f = open(\"demo.txt\")"
      ]
    },
    {
      "cell_type": "code",
      "source": [
        "f = open(\"demo.txt\", \"rt\")"
      ],
      "metadata": {
        "id": "27UtUitezftU"
      },
      "execution_count": 16,
      "outputs": []
    },
    {
      "cell_type": "code",
      "source": [
        "f = open(\"demo.txt\")\n",
        "print(f.read())"
      ],
      "metadata": {
        "colab": {
          "base_uri": "https://localhost:8080/"
        },
        "id": "Sj_KLqt81Qvk",
        "outputId": "2945106c-381c-4a46-807d-03a67b5e87e4"
      },
      "execution_count": 7,
      "outputs": [
        {
          "output_type": "stream",
          "name": "stdout",
          "text": [
            "The \"world\" typically refers to Earth, the third planet from the Sun and the only known place with life, characterized by its unique liquid water, rocky composition, and the common name originating from Old English and Germanic terms for \"ground\". It's the fifth-largest planet and the largest of the rocky inner planets in our solar system. \n"
          ]
        }
      ]
    },
    {
      "cell_type": "code",
      "source": [
        "with open(\"demo.txt\") as f:\n",
        "  print(f.read())"
      ],
      "metadata": {
        "colab": {
          "base_uri": "https://localhost:8080/"
        },
        "id": "h_eDNu336U9H",
        "outputId": "b92687f8-3552-402d-d381-e3d038fcb48d"
      },
      "execution_count": 14,
      "outputs": [
        {
          "output_type": "stream",
          "name": "stdout",
          "text": [
            "The \"world\" typically refers to Earth, the third planet from the Sun and the only known place with life, characterized by its unique liquid water, rocky composition, and the common name originating from Old English and Germanic terms for \"ground\". It's the fifth-largest planet and the largest of the rocky inner planets in our solar system. \n"
          ]
        }
      ]
    },
    {
      "cell_type": "code",
      "source": [
        "f = open(\"demo.txt\")\n",
        "print(f.readline())\n",
        "f.close()"
      ],
      "metadata": {
        "colab": {
          "base_uri": "https://localhost:8080/"
        },
        "id": "rjQIrEWy6l1a",
        "outputId": "756dea4f-0f0a-48bd-9d14-f5b750c34554"
      },
      "execution_count": 12,
      "outputs": [
        {
          "output_type": "stream",
          "name": "stdout",
          "text": [
            "The \"world\" typically refers to Earth, the third planet from the Sun and the only known place with life, characterized by its unique liquid water, rocky composition, and the common name originating from Old English and Germanic terms for \"ground\". It's the fifth-largest planet and the largest of the rocky inner planets in our solar system. \n"
          ]
        }
      ]
    },
    {
      "cell_type": "code",
      "source": [
        "print(f.read())"
      ],
      "metadata": {
        "colab": {
          "base_uri": "https://localhost:8080/"
        },
        "id": "olrRy8CC6omA",
        "outputId": "d927e09a-b5c9-4a8a-800a-53e7d54ad065"
      },
      "execution_count": 17,
      "outputs": [
        {
          "output_type": "stream",
          "name": "stdout",
          "text": [
            "The \"world\" typically refers to Earth, the third planet from the Sun and the only known place with life, characterized by its unique liquid water, rocky composition, and the common name originating from Old English and Germanic terms for \"ground\". It's the fifth-largest planet and the largest of the rocky inner planets in our solar system. \n"
          ]
        }
      ]
    },
    {
      "cell_type": "code",
      "source": [
        "with open(\"demo.txt\") as f:\n",
        "  print(f.read(5))"
      ],
      "metadata": {
        "colab": {
          "base_uri": "https://localhost:8080/"
        },
        "id": "puXjFggd65jF",
        "outputId": "3ed3c2af-41d6-4c38-ee2b-ac2947b4a320"
      },
      "execution_count": 19,
      "outputs": [
        {
          "output_type": "stream",
          "name": "stdout",
          "text": [
            "The \"\n"
          ]
        }
      ]
    },
    {
      "cell_type": "code",
      "source": [
        "with open(\"demofile.txt\") as f:\n",
        "  for x in f:\n",
        "    print(x)"
      ],
      "metadata": {
        "colab": {
          "base_uri": "https://localhost:8080/"
        },
        "id": "gwdMAEgJ685h",
        "outputId": "c50264cb-75ec-4a3a-b618-896697f7f9b7"
      },
      "execution_count": 20,
      "outputs": [
        {
          "output_type": "stream",
          "name": "stdout",
          "text": [
            "The \"world\" typically refers to Earth, the third planet from the Sun and the only known place with life, characterized by its unique liquid water, rocky composition, and the common name originating from Old English and Germanic terms for \"ground\". It's the fifth-largest planet and the largest of the rocky inner planets in our solar system. \n"
          ]
        }
      ]
    },
    {
      "cell_type": "markdown",
      "source": [
        "**Write to an Existing File**"
      ],
      "metadata": {
        "id": "-kJWcWrK72P-"
      }
    },
    {
      "cell_type": "code",
      "source": [
        "with open(\"demofile.txt\", \"a\") as f:\n",
        "  f.write(\"Now the file has more content!\")\n",
        "\n",
        "#open and read the file after the appending:\n",
        "with open(\"demofile.txt\") as f:\n",
        "  print(f.read())"
      ],
      "metadata": {
        "colab": {
          "base_uri": "https://localhost:8080/"
        },
        "id": "dPMtMupM7KcS",
        "outputId": "6297d5c9-6e98-4809-eaae-02403667c880"
      },
      "execution_count": 21,
      "outputs": [
        {
          "output_type": "stream",
          "name": "stdout",
          "text": [
            "The \"world\" typically refers to Earth, the third planet from the Sun and the only known place with life, characterized by its unique liquid water, rocky composition, and the common name originating from Old English and Germanic terms for \"ground\". It's the fifth-largest planet and the largest of the rocky inner planets in our solar system. Now the file has more content!\n"
          ]
        }
      ]
    },
    {
      "cell_type": "code",
      "source": [
        "with open(\"demofile.txt\", \"w\") as f:\n",
        "  f.write(\"Woops! I have deleted the content!\")\n",
        "\n",
        "#open and read the file after the overwriting:\n",
        "with open(\"demofile.txt\") as f:\n",
        "  print(f.read())"
      ],
      "metadata": {
        "colab": {
          "base_uri": "https://localhost:8080/"
        },
        "id": "wuLMfIsL7kQ_",
        "outputId": "19d16555-dd39-47bb-dbab-a1c6c6938007"
      },
      "execution_count": 22,
      "outputs": [
        {
          "output_type": "stream",
          "name": "stdout",
          "text": [
            "Woops! I have deleted the content!\n"
          ]
        }
      ]
    },
    {
      "cell_type": "markdown",
      "source": [
        "**Create New File**"
      ],
      "metadata": {
        "id": "QZJCxbgj7vvk"
      }
    },
    {
      "cell_type": "code",
      "source": [
        "f = open(\"myfile.txt\", \"x\")"
      ],
      "metadata": {
        "id": "ld91bAzB7rUv"
      },
      "execution_count": 23,
      "outputs": []
    },
    {
      "cell_type": "markdown",
      "source": [
        "**checking file**"
      ],
      "metadata": {
        "id": "ay6ahX1Y8L8J"
      }
    },
    {
      "cell_type": "code",
      "source": [
        "with open(\"demofile.txt\") as f:\n",
        "  print(f.read())"
      ],
      "metadata": {
        "colab": {
          "base_uri": "https://localhost:8080/"
        },
        "id": "5ZapFCJ07q_1",
        "outputId": "60338939-f218-49a9-90c2-2f545ed12aec"
      },
      "execution_count": 24,
      "outputs": [
        {
          "output_type": "stream",
          "name": "stdout",
          "text": [
            "Woops! I have deleted the content!\n"
          ]
        }
      ]
    },
    {
      "cell_type": "code",
      "source": [
        "import os\n",
        "os.remove(\"demofile.txt\")"
      ],
      "metadata": {
        "id": "CtTtbrkK8XCW"
      },
      "execution_count": 25,
      "outputs": []
    },
    {
      "cell_type": "code",
      "source": [
        "f=open(\"demofile.txt\",\"x\")"
      ],
      "metadata": {
        "id": "2PzvWQvr82J0"
      },
      "execution_count": 27,
      "outputs": []
    },
    {
      "cell_type": "code",
      "source": [
        "with open(\"demofile.txt\",\"a\") as f:\n",
        "  f.write(\"hello my name\")"
      ],
      "metadata": {
        "id": "07Dlmu9H9HZQ"
      },
      "execution_count": 30,
      "outputs": []
    },
    {
      "cell_type": "code",
      "source": [
        "import os\n",
        "if os.path.exists(\"demofile.txt\"):\n",
        "  j=open(\"demofile.txt\")\n",
        "  print(j.read())\n",
        "else:\n",
        "  print(\"The file does not exist\")"
      ],
      "metadata": {
        "colab": {
          "base_uri": "https://localhost:8080/"
        },
        "id": "Edjhw_tW8fI1",
        "outputId": "3ec4c485-bd99-430c-d47b-17be94a7f3ea"
      },
      "execution_count": 31,
      "outputs": [
        {
          "output_type": "stream",
          "name": "stdout",
          "text": [
            "hello my name\n"
          ]
        }
      ]
    },
    {
      "cell_type": "code",
      "source": [
        "import os\n",
        "os.remove(\"demofile.txt\")"
      ],
      "metadata": {
        "id": "Egh-sN_49XuR"
      },
      "execution_count": 32,
      "outputs": []
    },
    {
      "cell_type": "code",
      "source": [
        "import os\n",
        "if os.path.exists(\"demofile.txt\"):\n",
        "  j=open(\"demofile.txt\")\n",
        "  print(j.read())\n",
        "else:\n",
        "  print(\"The file does not exist\")"
      ],
      "metadata": {
        "colab": {
          "base_uri": "https://localhost:8080/"
        },
        "outputId": "188300cd-ecbf-476c-9419-d04983c4d98b",
        "id": "4r4I97ye9dsR"
      },
      "execution_count": 33,
      "outputs": [
        {
          "output_type": "stream",
          "name": "stdout",
          "text": [
            "The file does not exist\n"
          ]
        }
      ]
    }
  ]
}