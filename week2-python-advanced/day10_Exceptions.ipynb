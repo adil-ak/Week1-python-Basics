{
  "nbformat": 4,
  "nbformat_minor": 0,
  "metadata": {
    "colab": {
      "provenance": [],
      "authorship_tag": "ABX9TyOMOO/N7lafwoGBD0VfavhV"
    },
    "kernelspec": {
      "name": "python3",
      "display_name": "Python 3"
    },
    "language_info": {
      "name": "python"
    }
  },
  "cells": [
    {
      "cell_type": "markdown",
      "source": [
        "**Division by Zero Handling**"
      ],
      "metadata": {
        "id": "lkc51YnOaT3x"
      }
    },
    {
      "cell_type": "code",
      "execution_count": 1,
      "metadata": {
        "colab": {
          "base_uri": "https://localhost:8080/"
        },
        "id": "yxDP5a8TaFMg",
        "outputId": "b71e4c7d-c1bc-43bc-fc5c-1e43d07c92d5"
      },
      "outputs": [
        {
          "output_type": "stream",
          "name": "stdout",
          "text": [
            "Enter numerator: 1\n",
            "Enter denominator: 0\n",
            "❌ Cannot divide by zero!\n"
          ]
        }
      ],
      "source": [
        "try:\n",
        "    a = int(input(\"Enter numerator: \"))\n",
        "    b = int(input(\"Enter denominator: \"))\n",
        "    result = a / b\n",
        "    print(\"Result:\", result)\n",
        "except ZeroDivisionError:\n",
        "    print(\"❌ Cannot divide by zero!\")\n",
        "except ValueError:\n",
        "    print(\"❌ Please enter valid integers.\")"
      ]
    },
    {
      "cell_type": "markdown",
      "source": [
        "**Safe File Reader**"
      ],
      "metadata": {
        "id": "5BN9SWyladSE"
      }
    },
    {
      "cell_type": "code",
      "source": [
        "try:\n",
        "    filename = input(\"Enter filename: \")\n",
        "    with open(filename, \"r\") as f:\n",
        "        content = f.read()\n",
        "        print(\"File Content:\\n\", content)\n",
        "except FileNotFoundError:\n",
        "    print(\"❌ File does not exist.\")"
      ],
      "metadata": {
        "colab": {
          "base_uri": "https://localhost:8080/"
        },
        "id": "GDT8w9JKaky3",
        "outputId": "bdfe80cf-cc9f-475d-fb60-3ac62a0e6e11"
      },
      "execution_count": 2,
      "outputs": [
        {
          "output_type": "stream",
          "name": "stdout",
          "text": [
            "Enter filename: adil\n",
            "❌ File does not exist.\n"
          ]
        }
      ]
    },
    {
      "cell_type": "markdown",
      "source": [
        "**Convert String to Integer Safely**"
      ],
      "metadata": {
        "id": "P9ltDpDbaoqs"
      }
    },
    {
      "cell_type": "code",
      "source": [
        "try:\n",
        "    num = int(input(\"Enter a number: \"))\n",
        "    print(\"✅ You entered:\", num)\n",
        "except ValueError:\n",
        "    print(\"❌ Invalid input. Please enter only numbers.\")"
      ],
      "metadata": {
        "colab": {
          "base_uri": "https://localhost:8080/"
        },
        "id": "xr9zpGSSam-V",
        "outputId": "23227353-49e3-461c-d4ad-eae14870f7bd"
      },
      "execution_count": 4,
      "outputs": [
        {
          "output_type": "stream",
          "name": "stdout",
          "text": [
            "Enter a number: d\n",
            "❌ Invalid input. Please enter only numbers.\n"
          ]
        }
      ]
    },
    {
      "cell_type": "markdown",
      "source": [
        "**Custom Exception – Invalid Age**"
      ],
      "metadata": {
        "id": "j-9VIT11au8i"
      }
    },
    {
      "cell_type": "code",
      "source": [
        "class InvalidAgeError(Exception):\n",
        "    pass\n",
        "\n",
        "try:\n",
        "    age = int(input(\"Enter your age: \"))\n",
        "    if age < 18:\n",
        "        raise InvalidAgeError(\"❌ You must be 18 or older.\")\n",
        "    print(\"✅ Age accepted.\")\n",
        "except InvalidAgeError as e:\n",
        "    print(e)\n",
        "except ValueError:\n",
        "    print(\"❌ Invalid input. Enter numbers only.\")"
      ],
      "metadata": {
        "colab": {
          "base_uri": "https://localhost:8080/"
        },
        "id": "iHQj4krcaxun",
        "outputId": "9ec8c146-2af8-4ec7-a982-58cb9f845b98"
      },
      "execution_count": 5,
      "outputs": [
        {
          "output_type": "stream",
          "name": "stdout",
          "text": [
            "Enter your age: 22\n",
            "✅ Age accepted.\n"
          ]
        }
      ]
    },
    {
      "cell_type": "markdown",
      "source": [
        "**Safe Calculator (Mini Project of the Day 🚀)**"
      ],
      "metadata": {
        "id": "OFQOseJea3Hq"
      }
    },
    {
      "cell_type": "code",
      "source": [
        "def calculator():\n",
        "    try:\n",
        "        a = float(input(\"Enter first number: \"))\n",
        "        b = float(input(\"Enter second number: \"))\n",
        "        op = input(\"Enter operation (+, -, *, /): \")\n",
        "\n",
        "        if op == \"+\":\n",
        "            print(\"Result:\", a + b)\n",
        "        elif op == \"-\":\n",
        "            print(\"Result:\", a - b)\n",
        "        elif op == \"*\":\n",
        "            print(\"Result:\", a * b)\n",
        "        elif op == \"/\":\n",
        "            print(\"Result:\", a / b)\n",
        "        else:\n",
        "            print(\"❌ Invalid operation.\")\n",
        "    except ValueError:\n",
        "        print(\"❌ Invalid number entered.\")\n",
        "    except ZeroDivisionError:\n",
        "        print(\"❌ Division by zero not allowed.\")\n",
        "\n",
        "calculator()"
      ],
      "metadata": {
        "colab": {
          "base_uri": "https://localhost:8080/"
        },
        "id": "MuPDaLPfa1JI",
        "outputId": "b6d7a699-6943-4468-fa0f-a43a62eddf77"
      },
      "execution_count": 6,
      "outputs": [
        {
          "output_type": "stream",
          "name": "stdout",
          "text": [
            "Enter first number: e\n",
            "❌ Invalid number entered.\n"
          ]
        }
      ]
    }
  ]
}