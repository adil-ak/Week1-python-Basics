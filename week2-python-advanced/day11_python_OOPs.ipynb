{
  "nbformat": 4,
  "nbformat_minor": 0,
  "metadata": {
    "colab": {
      "provenance": [],
      "authorship_tag": "ABX9TyPOKY/Z5j/GM7u27s0/EJ1k"
    },
    "kernelspec": {
      "name": "python3",
      "display_name": "Python 3"
    },
    "language_info": {
      "name": "python"
    }
  },
  "cells": [
    {
      "cell_type": "markdown",
      "source": [
        "**What is OOP?**"
      ],
      "metadata": {
        "id": "DqkW0yMkuLp7"
      }
    },
    {
      "cell_type": "markdown",
      "source": [
        "Python is an object-oriented language, allowing you to structure your code using classes and objects for better organization and reusability."
      ],
      "metadata": {
        "id": "W62mHRiWuQNJ"
      }
    },
    {
      "cell_type": "markdown",
      "source": [
        "**Class**"
      ],
      "metadata": {
        "id": "BsxcXHMjuj9b"
      }
    },
    {
      "cell_type": "code",
      "execution_count": 1,
      "metadata": {
        "id": "9lzjiVsBuFwv"
      },
      "outputs": [],
      "source": [
        "class Myclass:\n",
        "  x=10"
      ]
    },
    {
      "cell_type": "code",
      "source": [
        "p1 = Myclass()\n",
        "print(p1.x)"
      ],
      "metadata": {
        "colab": {
          "base_uri": "https://localhost:8080/"
        },
        "id": "xnih1vLkux3a",
        "outputId": "4acbc4a0-35b2-4675-dfac-54c76a6b5293"
      },
      "execution_count": 5,
      "outputs": [
        {
          "output_type": "stream",
          "name": "stdout",
          "text": [
            "10\n"
          ]
        }
      ]
    },
    {
      "cell_type": "code",
      "source": [
        "class Person:\n",
        "  def __init__(self,name,age):\n",
        "    self.name=name\n",
        "    self.age=age\n",
        "\n",
        "p1=Person(\"Salman\",28)\n",
        "print(p1.name)\n",
        "print(p1.age)\n",
        "\n",
        "if p1.age>=28:\n",
        "  print(\"Unmarried\")\n",
        "else:\n",
        "  print(\"Single\")"
      ],
      "metadata": {
        "colab": {
          "base_uri": "https://localhost:8080/"
        },
        "id": "I4wryAEUvNrm",
        "outputId": "428e01ce-7c9a-402d-cb24-595cdfccc64f"
      },
      "execution_count": 9,
      "outputs": [
        {
          "output_type": "stream",
          "name": "stdout",
          "text": [
            "Salman\n",
            "28\n",
            "Unmarried\n"
          ]
        }
      ]
    },
    {
      "cell_type": "code",
      "source": [
        "class Person:\n",
        "  def __init__(self, name, age):\n",
        "    self.name = name\n",
        "    self.age = age\n",
        "\n",
        "  def myfunc(self):\n",
        "    print(\"Hello my name is \" + self.name)\n",
        "\n",
        "p1 = Person(\"Suhail\", 36)\n",
        "p1.myfunc()"
      ],
      "metadata": {
        "colab": {
          "base_uri": "https://localhost:8080/"
        },
        "id": "zfwkYTFuZR0Z",
        "outputId": "48909324-789d-4edc-aa35-95a26180db21"
      },
      "execution_count": 11,
      "outputs": [
        {
          "output_type": "stream",
          "name": "stdout",
          "text": [
            "Hello my name is Suhail\n"
          ]
        }
      ]
    }
  ]
}