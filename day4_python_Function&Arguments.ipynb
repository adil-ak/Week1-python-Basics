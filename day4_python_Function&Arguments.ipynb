{
  "nbformat": 4,
  "nbformat_minor": 0,
  "metadata": {
    "colab": {
      "provenance": [],
      "authorship_tag": "ABX9TyNQ4bKIP9YB2Qpe8KYAai2E"
    },
    "kernelspec": {
      "name": "python3",
      "display_name": "Python 3"
    },
    "language_info": {
      "name": "python"
    }
  },
  "cells": [
    {
      "cell_type": "markdown",
      "source": [
        "**Create Function**"
      ],
      "metadata": {
        "id": "nisasR5bael9"
      }
    },
    {
      "cell_type": "code",
      "execution_count": 2,
      "metadata": {
        "colab": {
          "base_uri": "https://localhost:8080/"
        },
        "id": "89Vg0D8RaUfW",
        "outputId": "9994017e-d1ab-4ea4-d7fb-1b9dad523b4c"
      },
      "outputs": [
        {
          "output_type": "stream",
          "name": "stdout",
          "text": [
            "Hello World\n"
          ]
        }
      ],
      "source": [
        "def hello():\n",
        "  print(\"Hello World\")\n",
        "\n",
        "hello()"
      ]
    },
    {
      "cell_type": "markdown",
      "source": [
        "#Arguments"
      ],
      "metadata": {
        "id": "XsOwv6zZa5lW"
      }
    },
    {
      "cell_type": "markdown",
      "source": [
        "Information can be passed into functions as arguments.\n",
        "\n",
        "Arguments are specified after the function name, inside the parentheses. You can add as many arguments as you want, just separate them with a comma."
      ],
      "metadata": {
        "id": "M7H2Vmmra63t"
      }
    },
    {
      "cell_type": "code",
      "source": [
        "def full_name(fname):\n",
        "  print(fname,\"Classic\")\n",
        "\n",
        "full_name(\"ashraf\")\n",
        "full_name(\"Rizwan\")"
      ],
      "metadata": {
        "colab": {
          "base_uri": "https://localhost:8080/"
        },
        "id": "No_xENDiaskG",
        "outputId": "65e44f04-6fb5-48a4-9b52-841a46a0a7ae"
      },
      "execution_count": 6,
      "outputs": [
        {
          "output_type": "stream",
          "name": "stdout",
          "text": [
            "ashraf Classic\n",
            "Rizwan Classic\n"
          ]
        }
      ]
    },
    {
      "cell_type": "code",
      "source": [
        "def full(fname,lname):\n",
        "  print(\"Your Staff name is:\",fname,lname,fname[0]+lname[0])\n",
        "\n",
        "fname=(input(\"Enter your firstname: \"))\n",
        "lname=(input(\"Enter your lastname: \"))\n",
        "full(fname,lname)"
      ],
      "metadata": {
        "colab": {
          "base_uri": "https://localhost:8080/"
        },
        "id": "wU9TQ4PUblvs",
        "outputId": "6728a9c5-629e-4670-e6ac-a0a51c6d0df3"
      },
      "execution_count": 14,
      "outputs": [
        {
          "output_type": "stream",
          "name": "stdout",
          "text": [
            "Enter your firstname: ashraf\n",
            "Enter your lastname: mak\n",
            "Your Staff name is: ashraf mak am\n"
          ]
        }
      ]
    },
    {
      "cell_type": "code",
      "source": [
        "def full(fname,lname):\n",
        "  print(\"Your Staff name is:\",fname,lname,\"Classic\")\n",
        "\n",
        "fname=(input(\"Enter your firstname: \"))\n",
        "lname=(input(\"Enter your lastname: \"))\n",
        "full(fname,lname)"
      ],
      "metadata": {
        "colab": {
          "base_uri": "https://localhost:8080/"
        },
        "id": "Y1VZb8cSc-4i",
        "outputId": "d91703e4-dcc9-41f6-feb4-fea025d29be7"
      },
      "execution_count": 15,
      "outputs": [
        {
          "output_type": "stream",
          "name": "stdout",
          "text": [
            "Enter your firstname: rizwan\n",
            "Enter your lastname: pavan\n",
            "Your Staff name is: rizwan pavan Classic\n"
          ]
        }
      ]
    },
    {
      "cell_type": "code",
      "source": [
        "def my_function(*kids):\n",
        "  print(\"The youngest child is \" + kids[1])\n",
        "\n",
        "my_function(\"Emil\", \"Tobias\", \"Linus\")"
      ],
      "metadata": {
        "colab": {
          "base_uri": "https://localhost:8080/"
        },
        "id": "1k8IiqUDdYoo",
        "outputId": "76695462-0b3d-4926-e09c-4a54d13376a6"
      },
      "execution_count": 19,
      "outputs": [
        {
          "output_type": "stream",
          "name": "stdout",
          "text": [
            "The youngest child is Tobias\n"
          ]
        }
      ]
    },
    {
      "cell_type": "code",
      "source": [
        "def my_function(**kid):\n",
        "  print(\"His last name is \" + kid[\"lname\"])\n",
        "\n",
        "my_function(fname = \"Tobias\", lname = \"Refsnes\")"
      ],
      "metadata": {
        "colab": {
          "base_uri": "https://localhost:8080/"
        },
        "id": "YsPjdk1CeCrC",
        "outputId": "f7d66125-11b5-4be9-a56e-c89c068ce3d3"
      },
      "execution_count": 22,
      "outputs": [
        {
          "output_type": "stream",
          "name": "stdout",
          "text": [
            "His last name is Refsnes\n"
          ]
        }
      ]
    },
    {
      "cell_type": "code",
      "source": [
        "def my_function(country = \"Norway\"):\n",
        "  print(\"I am from \" + country)\n",
        "\n",
        "my_function(\"Sweden\")\n",
        "my_function(\"India\")\n",
        "my_function()\n",
        "my_function(\"Brazil\")"
      ],
      "metadata": {
        "colab": {
          "base_uri": "https://localhost:8080/"
        },
        "id": "OGIW0GOZenQO",
        "outputId": "3a790b42-6339-449a-9936-bd754f0de5f4"
      },
      "execution_count": 23,
      "outputs": [
        {
          "output_type": "stream",
          "name": "stdout",
          "text": [
            "I am from Sweden\n",
            "I am from India\n",
            "I am from Norway\n",
            "I am from Brazil\n"
          ]
        }
      ]
    },
    {
      "cell_type": "code",
      "source": [
        "def my_function(food):\n",
        "  for x in food:\n",
        "    print(x,end=\" \")\n",
        "\n",
        "fruits = [\"apple\", \"banana\", \"cherry\"]\n",
        "\n",
        "my_function(fruits)"
      ],
      "metadata": {
        "colab": {
          "base_uri": "https://localhost:8080/"
        },
        "id": "WSxUxt7herxa",
        "outputId": "598312be-a4fe-4b12-8573-af229df77583"
      },
      "execution_count": 30,
      "outputs": [
        {
          "output_type": "stream",
          "name": "stdout",
          "text": [
            "apple banana cherry "
          ]
        }
      ]
    },
    {
      "cell_type": "code",
      "source": [
        "def my_function(x):\n",
        "  return 5 * x\n",
        "\n",
        "print(my_function(3))\n",
        "print(my_function(4))"
      ],
      "metadata": {
        "colab": {
          "base_uri": "https://localhost:8080/"
        },
        "id": "DyKgOR8NhfRY",
        "outputId": "385eea03-4c2c-45ab-9663-85ea5c99edfa"
      },
      "execution_count": 35,
      "outputs": [
        {
          "output_type": "stream",
          "name": "stdout",
          "text": [
            "15\n",
            "20\n"
          ]
        }
      ]
    },
    {
      "cell_type": "code",
      "source": [
        "def my_function(x):\n",
        "  print(x)\n",
        "\n",
        "my_function(x=3)"
      ],
      "metadata": {
        "colab": {
          "base_uri": "https://localhost:8080/"
        },
        "id": "zxWM5PURj6tO",
        "outputId": "53df6787-372b-4f28-bcc0-13b71073deee"
      },
      "execution_count": 36,
      "outputs": [
        {
          "output_type": "stream",
          "name": "stdout",
          "text": [
            "3\n"
          ]
        }
      ]
    },
    {
      "cell_type": "code",
      "source": [
        "def tri_recursion(k):\n",
        "  if(k > 0):\n",
        "    result = k + tri_recursion(k - 1)\n",
        "    print(result)\n",
        "  else:\n",
        "    result = 0\n",
        "  return result\n",
        "\n",
        "print(\"Recursion Example Results:\")\n",
        "tri_recursion(6)"
      ],
      "metadata": {
        "colab": {
          "base_uri": "https://localhost:8080/"
        },
        "id": "861dKBjdkcec",
        "outputId": "9e864cfd-13ad-47d6-ecb1-a7b0a4c0feae"
      },
      "execution_count": 41,
      "outputs": [
        {
          "output_type": "stream",
          "name": "stdout",
          "text": [
            "Recursion Example Results:\n",
            "1\n",
            "3\n",
            "6\n",
            "10\n",
            "15\n",
            "21\n"
          ]
        },
        {
          "output_type": "execute_result",
          "data": {
            "text/plain": [
              "21"
            ]
          },
          "metadata": {},
          "execution_count": 41
        }
      ]
    }
  ]
}