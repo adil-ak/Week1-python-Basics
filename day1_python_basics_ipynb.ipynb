{
  "nbformat": 4,
  "nbformat_minor": 0,
  "metadata": {
    "colab": {
      "provenance": [],
      "authorship_tag": "ABX9TyOrhSZz+8RjsXPIBx4gEgHS"
    },
    "kernelspec": {
      "name": "python3",
      "display_name": "Python 3"
    },
    "language_info": {
      "name": "python"
    }
  },
  "cells": [
    {
      "cell_type": "code",
      "execution_count": null,
      "metadata": {
        "colab": {
          "base_uri": "https://localhost:8080/"
        },
        "id": "G5CYzImUM7iH",
        "outputId": "ea4dd16d-f2c6-465c-89f7-50d71739eb4a"
      },
      "outputs": [
        {
          "output_type": "stream",
          "name": "stdout",
          "text": [
            "Hi, This is My First line of code.\n"
          ]
        }
      ],
      "source": [
        "print(\"Hi, This is My First line of code.\")"
      ]
    },
    {
      "cell_type": "markdown",
      "source": [
        "**Variables**"
      ],
      "metadata": {
        "id": "Nmv8ErbDWbLK"
      }
    },
    {
      "cell_type": "code",
      "source": [
        "x = \"adil\"\n",
        "y = 5\n",
        "print(x)\n",
        "print(y)"
      ],
      "metadata": {
        "colab": {
          "base_uri": "https://localhost:8080/"
        },
        "id": "GKji_1y8WYwC",
        "outputId": "a81feb41-a268-46f4-f2e9-7941e74a1f5c"
      },
      "execution_count": null,
      "outputs": [
        {
          "output_type": "stream",
          "name": "stdout",
          "text": [
            "adil\n",
            "5\n"
          ]
        }
      ]
    },
    {
      "cell_type": "code",
      "source": [
        "y = \"me\"\n",
        "y = 5\n",
        "print(y)"
      ],
      "metadata": {
        "colab": {
          "base_uri": "https://localhost:8080/"
        },
        "id": "uNxdZxpuWnIr",
        "outputId": "69b1bd30-353d-4234-9117-23cb9c638aad"
      },
      "execution_count": null,
      "outputs": [
        {
          "output_type": "stream",
          "name": "stdout",
          "text": [
            "5\n"
          ]
        }
      ]
    },
    {
      "cell_type": "markdown",
      "source": [
        "**Casting & Type**"
      ],
      "metadata": {
        "id": "Mx5HI1V9qV2s"
      }
    },
    {
      "cell_type": "code",
      "source": [
        "x=str(3)\n",
        "print(x,type(x))\n",
        "y=int(4)\n",
        "print(y,type(y))\n",
        "z=float(5)\n",
        "print(z,type(z))"
      ],
      "metadata": {
        "colab": {
          "base_uri": "https://localhost:8080/"
        },
        "id": "4v2yWkeKqYje",
        "outputId": "0a51b07c-95a9-4197-ec18-d243a8588e2e"
      },
      "execution_count": null,
      "outputs": [
        {
          "output_type": "stream",
          "name": "stdout",
          "text": [
            "3 <class 'str'>\n",
            "4 <class 'int'>\n",
            "5.0 <class 'float'>\n"
          ]
        }
      ]
    },
    {
      "cell_type": "markdown",
      "source": [
        "Multiple **variable**"
      ],
      "metadata": {
        "id": "cAxCCAqNq-eZ"
      }
    },
    {
      "cell_type": "code",
      "source": [
        "x,y,z=\"majid\",\"adil\",\"arshak\"\n",
        "print(x,y,z)\n",
        "print(x)\n",
        "print(y)\n",
        "print(z)"
      ],
      "metadata": {
        "colab": {
          "base_uri": "https://localhost:8080/"
        },
        "id": "kxI93QxCq9lK",
        "outputId": "ea9d63bd-af3c-4a35-ddf6-580e71b44db0"
      },
      "execution_count": null,
      "outputs": [
        {
          "output_type": "stream",
          "name": "stdout",
          "text": [
            "majid adil arshak\n",
            "majid\n",
            "adil\n",
            "arshak\n"
          ]
        }
      ]
    },
    {
      "cell_type": "markdown",
      "source": [
        "**List**"
      ],
      "metadata": {
        "id": "PfqEpi3itwdl"
      }
    },
    {
      "cell_type": "code",
      "source": [
        "fruits = [\"apple\",\"banana\",\"cherry\"]\n",
        "print(fruits)\n",
        "\n",
        "x,y,z=fruits\n",
        "print(z)"
      ],
      "metadata": {
        "colab": {
          "base_uri": "https://localhost:8080/"
        },
        "id": "T7qHXiiItahw",
        "outputId": "77ae2a8c-03d8-4e3f-c082-e74755a3d17d"
      },
      "execution_count": null,
      "outputs": [
        {
          "output_type": "stream",
          "name": "stdout",
          "text": [
            "['apple', 'banana', 'cherry']\n",
            "cherry\n"
          ]
        }
      ]
    },
    {
      "cell_type": "code",
      "source": [
        "x=\"python\"\n",
        "y=\"is\"\n",
        "z=\"language\"\n",
        "\n",
        "print(x,y,z)\n",
        "print(x+y+z)"
      ],
      "metadata": {
        "colab": {
          "base_uri": "https://localhost:8080/"
        },
        "id": "4WhU-qbquGCI",
        "outputId": "7bd0a857-ad49-4ffd-a9b8-1167aa5497d7"
      },
      "execution_count": null,
      "outputs": [
        {
          "output_type": "stream",
          "name": "stdout",
          "text": [
            "python is language\n",
            "pythonislanguage\n"
          ]
        }
      ]
    }
  ]
}