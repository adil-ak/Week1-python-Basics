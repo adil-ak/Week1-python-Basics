{
  "nbformat": 4,
  "nbformat_minor": 0,
  "metadata": {
    "colab": {
      "provenance": [],
      "authorship_tag": "ABX9TyM0TzJOpUlx99Yd8I53rO30"
    },
    "kernelspec": {
      "name": "python3",
      "display_name": "Python 3"
    },
    "language_info": {
      "name": "python"
    }
  },
  "cells": [
    {
      "cell_type": "markdown",
      "source": [
        "**Simple Calculator**"
      ],
      "metadata": {
        "id": "3_LNvrtrDYAz"
      }
    },
    {
      "cell_type": "code",
      "source": [
        "while True:\n",
        "    word = input(\"Type 'exit' to stop or press Enter to continue: \")\n",
        "    if word == \"exit\":\n",
        "        print(\"Bye!\")\n",
        "        break\n",
        "\n",
        "    num1 = float(input(\"Enter first number: \"))\n",
        "    sign = input(\"Enter +, -, *, or /: \")\n",
        "    num2 = float(input(\"Enter second number: \"))\n",
        "\n",
        "    if sign == \"+\":\n",
        "        print(\"Answer:\", num1 + num2)\n",
        "    elif sign == \"-\":\n",
        "        print(\"Answer:\", num1 - num2)\n",
        "    elif sign == \"*\":\n",
        "        print(\"Answer:\", num1 * num2)\n",
        "    elif sign == \"/\":\n",
        "        if num2 == 0:\n",
        "            print(\"Error: cannot divide by zero\")\n",
        "        else:\n",
        "            print(\"Answer:\", num1 / num2)\n",
        "    else:\n",
        "        print(\"Wrong sign! Please use +, -, *, or /\")"
      ],
      "metadata": {
        "colab": {
          "base_uri": "https://localhost:8080/"
        },
        "id": "1oO4RqZnDPQC",
        "outputId": "e45bcd8e-0467-463c-dd33-0594d3c2d172"
      },
      "execution_count": null,
      "outputs": [
        {
          "output_type": "stream",
          "name": "stdout",
          "text": [
            "Type 'exit' to stop or press Enter to continue: \n",
            "Enter first number: 4\n",
            "Enter +, -, *, or /: *\n",
            "Enter second number: 4\n",
            "Answer: 16.0\n",
            "Type 'exit' to stop or press Enter to continue: exit\n",
            "Bye!\n"
          ]
        }
      ]
    },
    {
      "cell_type": "markdown",
      "source": [
        "**Optimized Code**"
      ],
      "metadata": {
        "id": "iVz2fPL8DbsY"
      }
    },
    {
      "cell_type": "code",
      "execution_count": null,
      "metadata": {
        "colab": {
          "base_uri": "https://localhost:8080/"
        },
        "id": "2lVB6k1JCuX7",
        "outputId": "56aac893-9174-46f4-f66a-00da297635f4"
      },
      "outputs": [
        {
          "output_type": "stream",
          "name": "stdout",
          "text": [
            "Enter calculation (+, -, *, /) or type 'exit' to quit: 4+4\n",
            "Result: 8\n",
            "Enter calculation (+, -, *, /) or type 'exit' to quit: 6*6\n",
            "Result: 36\n",
            "Enter calculation (+, -, *, /) or type 'exit' to quit: 7*4\n",
            "Result: 28\n",
            "Enter calculation (+, -, *, /) or type 'exit' to quit: exit\n",
            "Goodbye!\n"
          ]
        }
      ],
      "source": [
        "while True:\n",
        "    expr = input(\"Enter calculation (+, -, *, /) or type 'exit' to quit: \").strip()\n",
        "\n",
        "    if expr.lower() == \"exit\":\n",
        "        print(\"Goodbye!\")\n",
        "        break\n",
        "\n",
        "    try:\n",
        "        result = eval(expr)\n",
        "        print(\"Result:\", result)\n",
        "    except ZeroDivisionError:\n",
        "        print(\"Error: Division by zero is not allowed.\")\n",
        "    except Exception:\n",
        "        print(\"Invalid input. Please enter something like 5+3 or 10/2.\")"
      ]
    }
  ]
}